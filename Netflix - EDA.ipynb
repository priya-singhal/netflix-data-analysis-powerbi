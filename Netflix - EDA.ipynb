{
 "cells": [
  {
   "cell_type": "markdown",
   "id": "dfe84bb3-f7e4-4ff5-83de-6a1b57819f84",
   "metadata": {},
   "source": [
    "# Netflix - EDA (Exploratory Data Analysis)"
   ]
  },
  {
   "cell_type": "code",
   "execution_count": 1,
   "id": "b88de837-02b6-42c3-9ec4-7a692c36d589",
   "metadata": {},
   "outputs": [],
   "source": [
    "# Importing neccesary libraries:\n",
    "import pandas as pd\n",
    "import numpy as np\n",
    "import matplotlib.pyplot as plt\n",
    "%matplotlib inline\n",
    "import seaborn as sns"
   ]
  },
  {
   "cell_type": "code",
   "execution_count": 2,
   "id": "315efb8d-208c-4959-9cd1-2a6142494261",
   "metadata": {},
   "outputs": [],
   "source": [
    "# Importing Dataset:\n",
    "import os\n",
    "df = pd.read_csv('netflix-rotten-tomatoes-metacritic-imdb.csv')"
   ]
  },
  {
   "cell_type": "code",
   "execution_count": 3,
   "id": "ca009fa6-9ef9-4c95-9a47-6ea6a60e735f",
   "metadata": {},
   "outputs": [
    {
     "data": {
      "text/plain": [
       "(15480, 29)"
      ]
     },
     "execution_count": 3,
     "metadata": {},
     "output_type": "execute_result"
    }
   ],
   "source": [
    "# Checking the shape of the dataset:\n",
    "df.shape"
   ]
  },
  {
   "cell_type": "code",
   "execution_count": 4,
   "id": "dac6fbd4-402a-4ce2-9f39-107de899aa0b",
   "metadata": {},
   "outputs": [
    {
     "data": {
      "text/html": [
       "<div>\n",
       "<style scoped>\n",
       "    .dataframe tbody tr th:only-of-type {\n",
       "        vertical-align: middle;\n",
       "    }\n",
       "\n",
       "    .dataframe tbody tr th {\n",
       "        vertical-align: top;\n",
       "    }\n",
       "\n",
       "    .dataframe thead th {\n",
       "        text-align: right;\n",
       "    }\n",
       "</style>\n",
       "<table border=\"1\" class=\"dataframe\">\n",
       "  <thead>\n",
       "    <tr style=\"text-align: right;\">\n",
       "      <th></th>\n",
       "      <th>Title</th>\n",
       "      <th>Genre</th>\n",
       "      <th>Tags</th>\n",
       "      <th>Languages</th>\n",
       "      <th>Series or Movie</th>\n",
       "      <th>Hidden Gem Score</th>\n",
       "      <th>Country Availability</th>\n",
       "      <th>Runtime</th>\n",
       "      <th>Director</th>\n",
       "      <th>Writer</th>\n",
       "      <th>...</th>\n",
       "      <th>Netflix Release Date</th>\n",
       "      <th>Production House</th>\n",
       "      <th>Netflix Link</th>\n",
       "      <th>IMDb Link</th>\n",
       "      <th>Summary</th>\n",
       "      <th>IMDb Votes</th>\n",
       "      <th>Image</th>\n",
       "      <th>Poster</th>\n",
       "      <th>TMDb Trailer</th>\n",
       "      <th>Trailer Site</th>\n",
       "    </tr>\n",
       "  </thead>\n",
       "  <tbody>\n",
       "    <tr>\n",
       "      <th>0</th>\n",
       "      <td>Lets Fight Ghost</td>\n",
       "      <td>Crime, Drama, Fantasy, Horror, Romance</td>\n",
       "      <td>Comedy Programmes,Romantic TV Comedies,Horror ...</td>\n",
       "      <td>Swedish, Spanish</td>\n",
       "      <td>Series</td>\n",
       "      <td>4.3</td>\n",
       "      <td>Thailand</td>\n",
       "      <td>&lt; 30 minutes</td>\n",
       "      <td>Tomas Alfredson</td>\n",
       "      <td>John Ajvide Lindqvist</td>\n",
       "      <td>...</td>\n",
       "      <td>2021-03-04</td>\n",
       "      <td>Canal+, Sandrew Metronome</td>\n",
       "      <td>https://www.netflix.com/watch/81415947</td>\n",
       "      <td>https://www.imdb.com/title/tt1139797</td>\n",
       "      <td>A med student with a supernatural gift tries t...</td>\n",
       "      <td>205926.0</td>\n",
       "      <td>https://occ-0-4708-64.1.nflxso.net/dnm/api/v6/...</td>\n",
       "      <td>https://m.media-amazon.com/images/M/MV5BOWM4NT...</td>\n",
       "      <td>NaN</td>\n",
       "      <td>NaN</td>\n",
       "    </tr>\n",
       "    <tr>\n",
       "      <th>1</th>\n",
       "      <td>HOW TO BUILD A GIRL</td>\n",
       "      <td>Comedy</td>\n",
       "      <td>Dramas,Comedies,Films Based on Books,British</td>\n",
       "      <td>English</td>\n",
       "      <td>Movie</td>\n",
       "      <td>7.0</td>\n",
       "      <td>Canada</td>\n",
       "      <td>1-2 hour</td>\n",
       "      <td>Coky Giedroyc</td>\n",
       "      <td>Caitlin Moran</td>\n",
       "      <td>...</td>\n",
       "      <td>2021-03-04</td>\n",
       "      <td>Film 4, Monumental Pictures, Lionsgate</td>\n",
       "      <td>https://www.netflix.com/watch/81041267</td>\n",
       "      <td>https://www.imdb.com/title/tt4193072</td>\n",
       "      <td>When nerdy Johanna moves to London, things get...</td>\n",
       "      <td>2838.0</td>\n",
       "      <td>https://occ-0-1081-999.1.nflxso.net/dnm/api/v6...</td>\n",
       "      <td>https://m.media-amazon.com/images/M/MV5BZGUyN2...</td>\n",
       "      <td>https://www.youtube.com/watch?v=eIbcxPy4okQ</td>\n",
       "      <td>YouTube</td>\n",
       "    </tr>\n",
       "    <tr>\n",
       "      <th>2</th>\n",
       "      <td>Centigrade</td>\n",
       "      <td>Drama, Thriller</td>\n",
       "      <td>Thrillers</td>\n",
       "      <td>English</td>\n",
       "      <td>Movie</td>\n",
       "      <td>6.4</td>\n",
       "      <td>Canada</td>\n",
       "      <td>1-2 hour</td>\n",
       "      <td>Brendan Walsh</td>\n",
       "      <td>Brendan Walsh, Daley Nixon</td>\n",
       "      <td>...</td>\n",
       "      <td>2021-03-04</td>\n",
       "      <td>NaN</td>\n",
       "      <td>https://www.netflix.com/watch/81305978</td>\n",
       "      <td>https://www.imdb.com/title/tt8945942</td>\n",
       "      <td>Trapped in a frozen car during a blizzard, a p...</td>\n",
       "      <td>1720.0</td>\n",
       "      <td>https://occ-0-1081-999.1.nflxso.net/dnm/api/v6...</td>\n",
       "      <td>https://m.media-amazon.com/images/M/MV5BODM2MD...</td>\n",
       "      <td>https://www.youtube.com/watch?v=0RvV7TNUlkQ</td>\n",
       "      <td>YouTube</td>\n",
       "    </tr>\n",
       "  </tbody>\n",
       "</table>\n",
       "<p>3 rows × 29 columns</p>\n",
       "</div>"
      ],
      "text/plain": [
       "                 Title                                   Genre  \\\n",
       "0     Lets Fight Ghost  Crime, Drama, Fantasy, Horror, Romance   \n",
       "1  HOW TO BUILD A GIRL                                  Comedy   \n",
       "2           Centigrade                         Drama, Thriller   \n",
       "\n",
       "                                                Tags         Languages  \\\n",
       "0  Comedy Programmes,Romantic TV Comedies,Horror ...  Swedish, Spanish   \n",
       "1       Dramas,Comedies,Films Based on Books,British           English   \n",
       "2                                          Thrillers           English   \n",
       "\n",
       "  Series or Movie  Hidden Gem Score Country Availability       Runtime  \\\n",
       "0          Series               4.3             Thailand  < 30 minutes   \n",
       "1           Movie               7.0               Canada      1-2 hour   \n",
       "2           Movie               6.4               Canada      1-2 hour   \n",
       "\n",
       "          Director                      Writer  ... Netflix Release Date  \\\n",
       "0  Tomas Alfredson       John Ajvide Lindqvist  ...           2021-03-04   \n",
       "1    Coky Giedroyc               Caitlin Moran  ...           2021-03-04   \n",
       "2    Brendan Walsh  Brendan Walsh, Daley Nixon  ...           2021-03-04   \n",
       "\n",
       "                         Production House  \\\n",
       "0               Canal+, Sandrew Metronome   \n",
       "1  Film 4, Monumental Pictures, Lionsgate   \n",
       "2                                     NaN   \n",
       "\n",
       "                             Netflix Link  \\\n",
       "0  https://www.netflix.com/watch/81415947   \n",
       "1  https://www.netflix.com/watch/81041267   \n",
       "2  https://www.netflix.com/watch/81305978   \n",
       "\n",
       "                              IMDb Link  \\\n",
       "0  https://www.imdb.com/title/tt1139797   \n",
       "1  https://www.imdb.com/title/tt4193072   \n",
       "2  https://www.imdb.com/title/tt8945942   \n",
       "\n",
       "                                             Summary  IMDb Votes  \\\n",
       "0  A med student with a supernatural gift tries t...    205926.0   \n",
       "1  When nerdy Johanna moves to London, things get...      2838.0   \n",
       "2  Trapped in a frozen car during a blizzard, a p...      1720.0   \n",
       "\n",
       "                                               Image  \\\n",
       "0  https://occ-0-4708-64.1.nflxso.net/dnm/api/v6/...   \n",
       "1  https://occ-0-1081-999.1.nflxso.net/dnm/api/v6...   \n",
       "2  https://occ-0-1081-999.1.nflxso.net/dnm/api/v6...   \n",
       "\n",
       "                                              Poster  \\\n",
       "0  https://m.media-amazon.com/images/M/MV5BOWM4NT...   \n",
       "1  https://m.media-amazon.com/images/M/MV5BZGUyN2...   \n",
       "2  https://m.media-amazon.com/images/M/MV5BODM2MD...   \n",
       "\n",
       "                                  TMDb Trailer Trailer Site  \n",
       "0                                          NaN          NaN  \n",
       "1  https://www.youtube.com/watch?v=eIbcxPy4okQ      YouTube  \n",
       "2  https://www.youtube.com/watch?v=0RvV7TNUlkQ      YouTube  \n",
       "\n",
       "[3 rows x 29 columns]"
      ]
     },
     "execution_count": 4,
     "metadata": {},
     "output_type": "execute_result"
    }
   ],
   "source": [
    "df.head(3)"
   ]
  },
  {
   "cell_type": "markdown",
   "id": "61bc716e-6339-45ed-aa6d-334212b80021",
   "metadata": {},
   "source": [
    "# We observed that the columns name are not following INC rules"
   ]
  },
  {
   "cell_type": "code",
   "execution_count": 5,
   "id": "afe48ca6-4aeb-4a1e-a255-7baded5f8f6a",
   "metadata": {},
   "outputs": [],
   "source": [
    "# Renaming  inconsistent column names\n",
    "df.columns=df.columns.str.replace(\" \",\"_\")"
   ]
  },
  {
   "cell_type": "code",
   "execution_count": 6,
   "id": "059b2800-8ba1-433b-92b5-8763529d290f",
   "metadata": {},
   "outputs": [
    {
     "data": {
      "text/plain": [
       "np.int64(0)"
      ]
     },
     "execution_count": 6,
     "metadata": {},
     "output_type": "execute_result"
    }
   ],
   "source": [
    "# checking duplicate values:\n",
    "df.duplicated().sum()"
   ]
  },
  {
   "cell_type": "code",
   "execution_count": 7,
   "id": "af296b4f-3b45-4d66-a987-771b9f48ff27",
   "metadata": {},
   "outputs": [
    {
     "data": {
      "text/plain": [
       "Title                     0.000000\n",
       "Genre                    11.046512\n",
       "Tags                      0.432817\n",
       "Languages                12.622739\n",
       "Series_or_Movie           0.000000\n",
       "Hidden_Gem_Score         13.572351\n",
       "Country_Availability      0.122739\n",
       "Runtime                   0.006460\n",
       "Director                 30.413437\n",
       "Writer                   27.971576\n",
       "Actors                   12.435401\n",
       "View_Rating              45.374677\n",
       "IMDb_Score               13.559432\n",
       "Rotten_Tomatoes_Score    58.772610\n",
       "Metacritic_Score         71.989664\n",
       "Awards_Received          60.755814\n",
       "Awards_Nominated_For     50.510336\n",
       "Boxoffice                74.114987\n",
       "Release_Date             13.611111\n",
       "Netflix_Release_Date      0.000000\n",
       "Production_House         66.737726\n",
       "Netflix_Link              0.000000\n",
       "IMDb_Link                14.877261\n",
       "Summary                   0.058140\n",
       "IMDb_Votes               13.572351\n",
       "Image                     0.000000\n",
       "Poster                   23.501292\n",
       "TMDb_Trailer             53.527132\n",
       "Trailer_Site             53.527132\n",
       "dtype: float64"
      ]
     },
     "execution_count": 7,
     "metadata": {},
     "output_type": "execute_result"
    }
   ],
   "source": [
    "# checking null values:\n",
    "df.isna().sum()/len(df)*100"
   ]
  },
  {
   "cell_type": "markdown",
   "id": "1901b1e3-4c5f-4696-8c3a-71ce8809b69f",
   "metadata": {},
   "source": [
    "### We removed irrelevant columns containing many missing values such as Trailer_Site, Boxoffice  image URLs, Posters URLs etc as they do not contribute meaningful insights to the analysis.\n"
   ]
  },
  {
   "cell_type": "code",
   "execution_count": 8,
   "id": "d20d96a4-5e56-49f6-b90b-4342cc7dba0f",
   "metadata": {},
   "outputs": [],
   "source": [
    "df=df.drop(columns=['Netflix_Link','IMDb_Link','Summary','Image','Poster','TMDb_Trailer','Metacritic_Score',\n",
    "                    'Production_House','Trailer_Site','Boxoffice'],axis=1)"
   ]
  },
  {
   "cell_type": "code",
   "execution_count": 9,
   "id": "ba29f1d9-ecdd-4852-a4fa-03e25e6e9b6c",
   "metadata": {},
   "outputs": [],
   "source": [
    "# dropping null values :\n",
    "df=df.dropna(how=\"any\").reset_index(drop=True)"
   ]
  },
  {
   "cell_type": "code",
   "execution_count": 10,
   "id": "93e69b6f-3339-47ef-a336-7d083db9e819",
   "metadata": {},
   "outputs": [
    {
     "data": {
      "text/plain": [
       "(3082, 19)"
      ]
     },
     "execution_count": 10,
     "metadata": {},
     "output_type": "execute_result"
    }
   ],
   "source": [
    "df.shape"
   ]
  },
  {
   "cell_type": "code",
   "execution_count": 11,
   "id": "ea7da680-d04e-4c6f-b931-722f613accd1",
   "metadata": {},
   "outputs": [
    {
     "name": "stdout",
     "output_type": "stream",
     "text": [
      "<class 'pandas.core.frame.DataFrame'>\n",
      "RangeIndex: 3082 entries, 0 to 3081\n",
      "Data columns (total 19 columns):\n",
      " #   Column                 Non-Null Count  Dtype  \n",
      "---  ------                 --------------  -----  \n",
      " 0   Title                  3082 non-null   object \n",
      " 1   Genre                  3082 non-null   object \n",
      " 2   Tags                   3082 non-null   object \n",
      " 3   Languages              3082 non-null   object \n",
      " 4   Series_or_Movie        3082 non-null   object \n",
      " 5   Hidden_Gem_Score       3082 non-null   float64\n",
      " 6   Country_Availability   3082 non-null   object \n",
      " 7   Runtime                3082 non-null   object \n",
      " 8   Director               3082 non-null   object \n",
      " 9   Writer                 3082 non-null   object \n",
      " 10  Actors                 3082 non-null   object \n",
      " 11  View_Rating            3082 non-null   object \n",
      " 12  IMDb_Score             3082 non-null   float64\n",
      " 13  Rotten_Tomatoes_Score  3082 non-null   float64\n",
      " 14  Awards_Received        3082 non-null   float64\n",
      " 15  Awards_Nominated_For   3082 non-null   float64\n",
      " 16  Release_Date           3082 non-null   object \n",
      " 17  Netflix_Release_Date   3082 non-null   object \n",
      " 18  IMDb_Votes             3082 non-null   float64\n",
      "dtypes: float64(6), object(13)\n",
      "memory usage: 457.6+ KB\n"
     ]
    }
   ],
   "source": [
    "# Checking datatypes of the columns:\n",
    "df.info()"
   ]
  },
  {
   "cell_type": "raw",
   "id": "22e0eb56-b886-4ab9-8b1c-798d6d638e5d",
   "metadata": {},
   "source": [
    "Columns naming  Release_Date, Netflix_Release_Date having wrong datatypes"
   ]
  },
  {
   "cell_type": "code",
   "execution_count": 12,
   "id": "7cf18442-21a2-4b4e-a21b-bd16608e0bbd",
   "metadata": {},
   "outputs": [],
   "source": [
    "df.Release_Date=pd.to_datetime(df.Release_Date)"
   ]
  },
  {
   "cell_type": "code",
   "execution_count": 13,
   "id": "925b8ca4-5648-4743-b80a-f4895a6fa8f4",
   "metadata": {},
   "outputs": [],
   "source": [
    "df.Netflix_Release_Date = pd.to_datetime(df.Netflix_Release_Date)"
   ]
  },
  {
   "cell_type": "markdown",
   "id": "099bcdac-ed34-443d-af1d-1411c3cbc037",
   "metadata": {},
   "source": [
    "# Overview of the Dataset:"
   ]
  },
  {
   "cell_type": "code",
   "execution_count": 14,
   "id": "38909549-78aa-4ac8-8bc0-491254785ee6",
   "metadata": {},
   "outputs": [
    {
     "data": {
      "text/html": [
       "<div>\n",
       "<style scoped>\n",
       "    .dataframe tbody tr th:only-of-type {\n",
       "        vertical-align: middle;\n",
       "    }\n",
       "\n",
       "    .dataframe tbody tr th {\n",
       "        vertical-align: top;\n",
       "    }\n",
       "\n",
       "    .dataframe thead th {\n",
       "        text-align: right;\n",
       "    }\n",
       "</style>\n",
       "<table border=\"1\" class=\"dataframe\">\n",
       "  <thead>\n",
       "    <tr style=\"text-align: right;\">\n",
       "      <th></th>\n",
       "      <th>count</th>\n",
       "      <th>mean</th>\n",
       "      <th>min</th>\n",
       "      <th>25%</th>\n",
       "      <th>50%</th>\n",
       "      <th>75%</th>\n",
       "      <th>max</th>\n",
       "      <th>std</th>\n",
       "    </tr>\n",
       "  </thead>\n",
       "  <tbody>\n",
       "    <tr>\n",
       "      <th>Hidden_Gem_Score</th>\n",
       "      <td>3082.0</td>\n",
       "      <td>3.920539</td>\n",
       "      <td>0.6</td>\n",
       "      <td>2.9</td>\n",
       "      <td>3.7</td>\n",
       "      <td>4.3</td>\n",
       "      <td>8.9</td>\n",
       "      <td>1.60112</td>\n",
       "    </tr>\n",
       "    <tr>\n",
       "      <th>IMDb_Score</th>\n",
       "      <td>3082.0</td>\n",
       "      <td>6.775341</td>\n",
       "      <td>1.7</td>\n",
       "      <td>6.3</td>\n",
       "      <td>6.85</td>\n",
       "      <td>7.4</td>\n",
       "      <td>9.3</td>\n",
       "      <td>0.907984</td>\n",
       "    </tr>\n",
       "    <tr>\n",
       "      <th>Rotten_Tomatoes_Score</th>\n",
       "      <td>3082.0</td>\n",
       "      <td>66.843608</td>\n",
       "      <td>0.0</td>\n",
       "      <td>50.25</td>\n",
       "      <td>73.0</td>\n",
       "      <td>87.0</td>\n",
       "      <td>100.0</td>\n",
       "      <td>24.803222</td>\n",
       "    </tr>\n",
       "    <tr>\n",
       "      <th>Awards_Received</th>\n",
       "      <td>3082.0</td>\n",
       "      <td>11.688514</td>\n",
       "      <td>1.0</td>\n",
       "      <td>2.0</td>\n",
       "      <td>4.0</td>\n",
       "      <td>11.0</td>\n",
       "      <td>300.0</td>\n",
       "      <td>22.454086</td>\n",
       "    </tr>\n",
       "    <tr>\n",
       "      <th>Awards_Nominated_For</th>\n",
       "      <td>3082.0</td>\n",
       "      <td>22.49708</td>\n",
       "      <td>1.0</td>\n",
       "      <td>4.0</td>\n",
       "      <td>10.0</td>\n",
       "      <td>23.0</td>\n",
       "      <td>355.0</td>\n",
       "      <td>37.428007</td>\n",
       "    </tr>\n",
       "    <tr>\n",
       "      <th>Release_Date</th>\n",
       "      <td>3082</td>\n",
       "      <td>2007-11-09 14:51:56.417910528</td>\n",
       "      <td>1925-07-13 00:00:00</td>\n",
       "      <td>2003-07-02 18:00:00</td>\n",
       "      <td>2011-06-13 12:00:00</td>\n",
       "      <td>2016-02-19 00:00:00</td>\n",
       "      <td>2020-08-26 00:00:00</td>\n",
       "      <td>NaN</td>\n",
       "    </tr>\n",
       "    <tr>\n",
       "      <th>Netflix_Release_Date</th>\n",
       "      <td>3082</td>\n",
       "      <td>2017-02-03 07:47:41.778066176</td>\n",
       "      <td>2015-04-14 00:00:00</td>\n",
       "      <td>2015-04-14 00:00:00</td>\n",
       "      <td>2016-04-01 00:00:00</td>\n",
       "      <td>2018-10-22 18:00:00</td>\n",
       "      <td>2021-03-04 00:00:00</td>\n",
       "      <td>NaN</td>\n",
       "    </tr>\n",
       "    <tr>\n",
       "      <th>IMDb_Votes</th>\n",
       "      <td>3082.0</td>\n",
       "      <td>143424.749189</td>\n",
       "      <td>65.0</td>\n",
       "      <td>13515.0</td>\n",
       "      <td>63486.5</td>\n",
       "      <td>185206.75</td>\n",
       "      <td>2354197.0</td>\n",
       "      <td>221111.783258</td>\n",
       "    </tr>\n",
       "  </tbody>\n",
       "</table>\n",
       "</div>"
      ],
      "text/plain": [
       "                        count                           mean  \\\n",
       "Hidden_Gem_Score       3082.0                       3.920539   \n",
       "IMDb_Score             3082.0                       6.775341   \n",
       "Rotten_Tomatoes_Score  3082.0                      66.843608   \n",
       "Awards_Received        3082.0                      11.688514   \n",
       "Awards_Nominated_For   3082.0                       22.49708   \n",
       "Release_Date             3082  2007-11-09 14:51:56.417910528   \n",
       "Netflix_Release_Date     3082  2017-02-03 07:47:41.778066176   \n",
       "IMDb_Votes             3082.0                  143424.749189   \n",
       "\n",
       "                                       min                  25%  \\\n",
       "Hidden_Gem_Score                       0.6                  2.9   \n",
       "IMDb_Score                             1.7                  6.3   \n",
       "Rotten_Tomatoes_Score                  0.0                50.25   \n",
       "Awards_Received                        1.0                  2.0   \n",
       "Awards_Nominated_For                   1.0                  4.0   \n",
       "Release_Date           1925-07-13 00:00:00  2003-07-02 18:00:00   \n",
       "Netflix_Release_Date   2015-04-14 00:00:00  2015-04-14 00:00:00   \n",
       "IMDb_Votes                            65.0              13515.0   \n",
       "\n",
       "                                       50%                  75%  \\\n",
       "Hidden_Gem_Score                       3.7                  4.3   \n",
       "IMDb_Score                            6.85                  7.4   \n",
       "Rotten_Tomatoes_Score                 73.0                 87.0   \n",
       "Awards_Received                        4.0                 11.0   \n",
       "Awards_Nominated_For                  10.0                 23.0   \n",
       "Release_Date           2011-06-13 12:00:00  2016-02-19 00:00:00   \n",
       "Netflix_Release_Date   2016-04-01 00:00:00  2018-10-22 18:00:00   \n",
       "IMDb_Votes                         63486.5            185206.75   \n",
       "\n",
       "                                       max            std  \n",
       "Hidden_Gem_Score                       8.9        1.60112  \n",
       "IMDb_Score                             9.3       0.907984  \n",
       "Rotten_Tomatoes_Score                100.0      24.803222  \n",
       "Awards_Received                      300.0      22.454086  \n",
       "Awards_Nominated_For                 355.0      37.428007  \n",
       "Release_Date           2020-08-26 00:00:00            NaN  \n",
       "Netflix_Release_Date   2021-03-04 00:00:00            NaN  \n",
       "IMDb_Votes                       2354197.0  221111.783258  "
      ]
     },
     "execution_count": 14,
     "metadata": {},
     "output_type": "execute_result"
    }
   ],
   "source": [
    "df.describe().T"
   ]
  },
  {
   "cell_type": "markdown",
   "id": "54635cea-ea5a-4fb1-a8e0-dd0a6f72d8d8",
   "metadata": {},
   "source": [
    "##  Outliers Detection and treatment"
   ]
  },
  {
   "cell_type": "code",
   "execution_count": 15,
   "id": "aba1e624-ef77-45c7-be0e-361816220707",
   "metadata": {},
   "outputs": [],
   "source": [
    "cont_df=df.select_dtypes(include='number')"
   ]
  },
  {
   "cell_type": "code",
   "execution_count": 16,
   "id": "bbf7e971-85df-43c2-b1a7-b7747b34c63c",
   "metadata": {},
   "outputs": [
    {
     "data": {
      "image/png": "[encoded data removed]",
      "text/plain": [
       "<Figure size 640x480 with 1 Axes>"
      ]
     },
     "metadata": {},
     "output_type": "display_data"
    },
    {
     "data": {
      "image/png": "[encoded data removed]",
      "text/plain": [
       "<Figure size 640x480 with 1 Axes>"
      ]
     },
     "metadata": {},
     "output_type": "display_data"
    },
    {
     "data": {
      "image/png": "[encoded data removed]",
      "text/plain": [
       "<Figure size 640x480 with 1 Axes>"
      ]
     },
     "metadata": {},
     "output_type": "display_data"
    },
    {
     "data": {
      "image/png": "[encoded data removed]",
      "text/plain": [
       "<Figure size 640x480 with 1 Axes>"
      ]
     },
     "metadata": {},
     "output_type": "display_data"
    },
    {
     "data": {
      "image/png": "[encoded data removed]",
      "text/plain": [
       "<Figure size 640x480 with 1 Axes>"
      ]
     },
     "metadata": {},
     "output_type": "display_data"
    },
    {
     "data": {
      "image/png": "[encoded data removed]",
      "text/plain": [
       "<Figure size 640x480 with 1 Axes>"
      ]
     },
     "metadata": {},
     "output_type": "display_data"
    }
   ],
   "source": [
    "for i in cont_df.columns:\n",
    "    sns.boxplot(data=cont_df,x=i)\n",
    "    plt.show()"
   ]
  },
  {
   "cell_type": "raw",
   "id": "b0c753fe-1d66-4c65-b0a7-4ff9a163a787",
   "metadata": {},
   "source": [
    "# Observations:\n",
    "1. All continous variables have outliers except Rotten_Tomatoes_Score"
   ]
  },
  {
   "cell_type": "code",
   "execution_count": 17,
   "id": "40e1fe3f-57e4-4083-91af-991cf5c91dd1",
   "metadata": {},
   "outputs": [],
   "source": [
    "# Treating outliers with IQR method:\n",
    "for i in cont_df.columns:\n",
    "    q1=cont_df[i].quantile(0.25)\n",
    "    q3=cont_df[i].quantile(0.75)\n",
    "    iqr=q3-q1\n",
    "    l=q1-(1.5*iqr)\n",
    "    u=q3+(1.5*iqr)\n",
    "    df[i]=df[i].clip(lower=l,upper=u)"
   ]
  },
  {
   "cell_type": "markdown",
   "id": "10529f19-0917-4b7f-a757-6635ed4d1308",
   "metadata": {},
   "source": [
    "## Adding row_number as Id column in the Dataset:"
   ]
  },
  {
   "cell_type": "code",
   "execution_count": 18,
   "id": "721f921f-3fe1-40a0-ad44-2f619f801f87",
   "metadata": {},
   "outputs": [],
   "source": [
    "count= pd.Series(range(1,len(df)+1))"
   ]
  },
  {
   "cell_type": "code",
   "execution_count": 19,
   "id": "248dbd59-9098-4943-b2a1-e8932a88d3a3",
   "metadata": {},
   "outputs": [],
   "source": [
    "df.insert(0,'ID',count)"
   ]
  },
  {
   "cell_type": "markdown",
   "id": "650f0461-d57a-452c-a02a-ab42b6aa874e",
   "metadata": {},
   "source": [
    "## Checking correlations between columns:"
   ]
  },
  {
   "cell_type": "code",
   "execution_count": 20,
   "id": "a242f5bb-7b4b-49d3-bb05-794c4c98ecc5",
   "metadata": {},
   "outputs": [],
   "source": [
    "corr=cont_df.corr()"
   ]
  },
  {
   "cell_type": "code",
   "execution_count": 21,
   "id": "1bd2adbc-3172-4de2-acb2-ecec9d5d952a",
   "metadata": {},
   "outputs": [
    {
     "data": {
      "image/png": "[encoded data removed]",
      "text/plain": [
       "<Figure size 640x480 with 2 Axes>"
      ]
     },
     "metadata": {},
     "output_type": "display_data"
    }
   ],
   "source": [
    "sns.heatmap(data=corr,vmin=-1,vmax=1,annot=True,cmap=\"Blues\")\n",
    "plt.show()"
   ]
  },
  {
   "cell_type": "markdown",
   "id": "9613b32e-9391-452a-a001-f47bfc7baf98",
   "metadata": {},
   "source": [
    "# Observations:\n",
    "### 1.Columns naming Awards_received has highly positive correlation with Awards_Nominated_for\n",
    "### 2.Columns naming IMDb_score has positive correlation with Rotten_Tomatoes_Score"
   ]
  },
  {
   "cell_type": "markdown",
   "id": "4bde605f-bde6-461d-b3b9-c45f14c71d69",
   "metadata": {},
   "source": [
    "### spliting and exploding the column name \"Genre\""
   ]
  },
  {
   "cell_type": "code",
   "execution_count": 22,
   "id": "62f27c08-48d9-4f2b-8c82-c93e100cc326",
   "metadata": {},
   "outputs": [],
   "source": [
    "# Step 1: Split the genre string into lists\n",
    "df[\"Genre\"] = df[\"Genre\"].str.split(\",\")\n",
    "\n",
    "# Step 2: Remove leading/trailing whitespace\n",
    "df[\"Genre\"] = df[\"Genre\"].apply(lambda x: [g.strip() for g in x])\n",
    "\n",
    "# Step 3: Explode the genre column\n",
    "df_final = df.explode(\"Genre\").reset_index(drop=True)\n"
   ]
  },
  {
   "cell_type": "code",
   "execution_count": 23,
   "id": "26215fe1-3896-4799-a0f2-d1032f463d76",
   "metadata": {},
   "outputs": [],
   "source": [
    "df_final.to_excel('netflix_EDA_data.xlsx')"
   ]
  },
  {
   "cell_type": "code",
   "execution_count": null,
   "id": "1c56d57d-1e50-4a6c-96e5-c910e4503f05",
   "metadata": {},
   "outputs": [],
   "source": []
  }
 ],
 "metadata": {
  "kernelspec": {
   "display_name": "Python 3 (ipykernel)",
   "language": "python",
   "name": "python3"
  },
  "language_info": {
   "codemirror_mode": {
    "name": "ipython",
    "version": 3
   },
   "file_extension": ".py",
   "mimetype": "text/x-python",
   "name": "python",
   "nbconvert_exporter": "python",
   "pygments_lexer": "ipython3",
   "version": "3.12.2"
  }
 },
 "nbformat": 4,
 "nbformat_minor": 5
}
